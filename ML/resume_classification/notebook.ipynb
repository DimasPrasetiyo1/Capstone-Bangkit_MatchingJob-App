{
 "cells": [
  {
   "cell_type": "code",
   "execution_count": 6,
   "metadata": {},
   "outputs": [],
   "source": [
    "import os\n",
    "import shutil\n",
    "\n",
    "import tensorflow as tf\n",
    "import pandas as pd\n",
    "\n",
    "import json\n",
    "import tensorflow as tf\n",
    "import numpy as np\n",
    "import urllib\n",
    "from tensorflow.keras.preprocessing.text import Tokenizer\n",
    "from tensorflow.keras.preprocessing.sequence import pad_sequences\n",
    "\n",
    "tf.get_logger().setLevel('ERROR')"
   ]
  },
  {
   "cell_type": "code",
   "execution_count": 7,
   "metadata": {},
   "outputs": [
    {
     "name": "stderr",
     "output_type": "stream",
     "text": [
      "[nltk_data] Downloading package stopwords to\n",
      "[nltk_data]     C:\\Users\\VICTUS\\AppData\\Roaming\\nltk_data...\n",
      "[nltk_data]   Package stopwords is already up-to-date!\n"
     ]
    }
   ],
   "source": [
    "import nltk\n",
    "from nltk.corpus import stopwords\n",
    "\n",
    "nltk.download('stopwords')\n",
    "\n",
    "stop = stopwords.words('english')"
   ]
  },
  {
   "cell_type": "code",
   "execution_count": 167,
   "metadata": {},
   "outputs": [
    {
     "data": {
      "text/html": [
       "<div>\n",
       "<style scoped>\n",
       "    .dataframe tbody tr th:only-of-type {\n",
       "        vertical-align: middle;\n",
       "    }\n",
       "\n",
       "    .dataframe tbody tr th {\n",
       "        vertical-align: top;\n",
       "    }\n",
       "\n",
       "    .dataframe thead th {\n",
       "        text-align: right;\n",
       "    }\n",
       "</style>\n",
       "<table border=\"1\" class=\"dataframe\">\n",
       "  <thead>\n",
       "    <tr style=\"text-align: right;\">\n",
       "      <th></th>\n",
       "      <th>category</th>\n",
       "      <th>resume</th>\n",
       "    </tr>\n",
       "  </thead>\n",
       "  <tbody>\n",
       "    <tr>\n",
       "      <th>0</th>\n",
       "      <td>Data Science</td>\n",
       "      <td>Skills * Programming Languages: Python (pandas...</td>\n",
       "    </tr>\n",
       "    <tr>\n",
       "      <th>1</th>\n",
       "      <td>Data Science</td>\n",
       "      <td>Education Details \\r\\nMay 2013 to May 2017 B.E...</td>\n",
       "    </tr>\n",
       "    <tr>\n",
       "      <th>2</th>\n",
       "      <td>Data Science</td>\n",
       "      <td>Areas of Interest Deep Learning, Control Syste...</td>\n",
       "    </tr>\n",
       "    <tr>\n",
       "      <th>3</th>\n",
       "      <td>Data Science</td>\n",
       "      <td>Skills â¢ R â¢ Python â¢ SAP HANA â¢ Table...</td>\n",
       "    </tr>\n",
       "    <tr>\n",
       "      <th>4</th>\n",
       "      <td>Data Science</td>\n",
       "      <td>Education Details \\r\\n MCA   YMCAUST,  Faridab...</td>\n",
       "    </tr>\n",
       "  </tbody>\n",
       "</table>\n",
       "</div>"
      ],
      "text/plain": [
       "       category                                             resume\n",
       "0  Data Science  Skills * Programming Languages: Python (pandas...\n",
       "1  Data Science  Education Details \\r\\nMay 2013 to May 2017 B.E...\n",
       "2  Data Science  Areas of Interest Deep Learning, Control Syste...\n",
       "3  Data Science  Skills â¢ R â¢ Python â¢ SAP HANA â¢ Table...\n",
       "4  Data Science  Education Details \\r\\n MCA   YMCAUST,  Faridab..."
      ]
     },
     "execution_count": 167,
     "metadata": {},
     "output_type": "execute_result"
    }
   ],
   "source": [
    "df_old = pd.read_csv(\"Resume.csv\")\n",
    "df_old = df_old[['Resume_str','Category']]\n",
    "df_old.columns = ['resume','category']\n",
    "df_new = pd.read_csv(\"UpdatedResumeDataSet.csv\")\n",
    "df_new.columns = ['category','resume']\n",
    "df_new.head()"
   ]
  },
  {
   "cell_type": "code",
   "execution_count": 168,
   "metadata": {},
   "outputs": [],
   "source": [
    "import re\n",
    "def clean_resume(resume_str, stop_words):\n",
    "    resume_str   = resume_str.apply(lambda x: re.sub(r'[^a-zA-Z0-9\\s]', '', x))\n",
    "    cleaned_resume = resume_str.str.strip()\n",
    "    cleaned_resume = cleaned_resume.str.replace('\\s+', ' ', regex=True)\n",
    "    cleaned_resume = cleaned_resume.apply(lambda x: ' '.join([word for word in x.split() if word not in stop_words]))\n",
    "    return cleaned_resume"
   ]
  },
  {
   "cell_type": "code",
   "execution_count": 169,
   "metadata": {},
   "outputs": [
    {
     "data": {
      "text/html": [
       "<div>\n",
       "<style scoped>\n",
       "    .dataframe tbody tr th:only-of-type {\n",
       "        vertical-align: middle;\n",
       "    }\n",
       "\n",
       "    .dataframe tbody tr th {\n",
       "        vertical-align: top;\n",
       "    }\n",
       "\n",
       "    .dataframe thead th {\n",
       "        text-align: right;\n",
       "    }\n",
       "</style>\n",
       "<table border=\"1\" class=\"dataframe\">\n",
       "  <thead>\n",
       "    <tr style=\"text-align: right;\">\n",
       "      <th></th>\n",
       "      <th>resume</th>\n",
       "      <th>category</th>\n",
       "    </tr>\n",
       "  </thead>\n",
       "  <tbody>\n",
       "    <tr>\n",
       "      <th>0</th>\n",
       "      <td>HR ADMINISTRATORMARKETING ASSOCIATE HR ADMINIS...</td>\n",
       "      <td>HR</td>\n",
       "    </tr>\n",
       "    <tr>\n",
       "      <th>1</th>\n",
       "      <td>HR SPECIALIST US HR OPERATIONS Summary Versati...</td>\n",
       "      <td>HR</td>\n",
       "    </tr>\n",
       "    <tr>\n",
       "      <th>2</th>\n",
       "      <td>HR DIRECTOR Summary Over 20 years experience r...</td>\n",
       "      <td>HR</td>\n",
       "    </tr>\n",
       "    <tr>\n",
       "      <th>3</th>\n",
       "      <td>HR SPECIALIST Summary Dedicated Driven Dynamic...</td>\n",
       "      <td>HR</td>\n",
       "    </tr>\n",
       "    <tr>\n",
       "      <th>4</th>\n",
       "      <td>HR MANAGER Skill Highlights HR SKILLS HR Depar...</td>\n",
       "      <td>HR</td>\n",
       "    </tr>\n",
       "    <tr>\n",
       "      <th>...</th>\n",
       "      <td>...</td>\n",
       "      <td>...</td>\n",
       "    </tr>\n",
       "    <tr>\n",
       "      <th>957</th>\n",
       "      <td>Computer Skills Proficient MS office Word Basi...</td>\n",
       "      <td>Testing</td>\n",
       "    </tr>\n",
       "    <tr>\n",
       "      <th>958</th>\n",
       "      <td>Willingness accept challenges Positive thinkin...</td>\n",
       "      <td>Testing</td>\n",
       "    </tr>\n",
       "    <tr>\n",
       "      <th>959</th>\n",
       "      <td>PERSONAL SKILLS Quick learner Eagerness learn ...</td>\n",
       "      <td>Testing</td>\n",
       "    </tr>\n",
       "    <tr>\n",
       "      <th>960</th>\n",
       "      <td>COMPUTER SKILLS SOFTWARE KNOWLEDGE MSPower Poi...</td>\n",
       "      <td>Testing</td>\n",
       "    </tr>\n",
       "    <tr>\n",
       "      <th>961</th>\n",
       "      <td>Skill Set OS Windows XP788110 Database MYSQL s...</td>\n",
       "      <td>Testing</td>\n",
       "    </tr>\n",
       "  </tbody>\n",
       "</table>\n",
       "<p>3446 rows × 2 columns</p>\n",
       "</div>"
      ],
      "text/plain": [
       "                                                resume category\n",
       "0    HR ADMINISTRATORMARKETING ASSOCIATE HR ADMINIS...       HR\n",
       "1    HR SPECIALIST US HR OPERATIONS Summary Versati...       HR\n",
       "2    HR DIRECTOR Summary Over 20 years experience r...       HR\n",
       "3    HR SPECIALIST Summary Dedicated Driven Dynamic...       HR\n",
       "4    HR MANAGER Skill Highlights HR SKILLS HR Depar...       HR\n",
       "..                                                 ...      ...\n",
       "957  Computer Skills Proficient MS office Word Basi...  Testing\n",
       "958  Willingness accept challenges Positive thinkin...  Testing\n",
       "959  PERSONAL SKILLS Quick learner Eagerness learn ...  Testing\n",
       "960  COMPUTER SKILLS SOFTWARE KNOWLEDGE MSPower Poi...  Testing\n",
       "961  Skill Set OS Windows XP788110 Database MYSQL s...  Testing\n",
       "\n",
       "[3446 rows x 2 columns]"
      ]
     },
     "execution_count": 169,
     "metadata": {},
     "output_type": "execute_result"
    }
   ],
   "source": [
    "df = pd.concat([df_old,df_new])\n",
    "df['resume'] = clean_resume(df.resume,stop)\n",
    "df"
   ]
  },
  {
   "cell_type": "code",
   "execution_count": 170,
   "metadata": {},
   "outputs": [],
   "source": [
    "class_names = df.category.unique()\n",
    "#class mapping\n",
    "class_mapping = {label:idx for idx,label in enumerate(class_names)}\n",
    "\n",
    "df.category = df.category.map(class_mapping)"
   ]
  },
  {
   "cell_type": "code",
   "execution_count": 64,
   "metadata": {},
   "outputs": [],
   "source": [
    "from sklearn.model_selection import train_test_split\n",
    "X = df.resume\n",
    "y = df.category\n",
    "X_train,X_valid,y_train,y_valid = train_test_split(X,y,stratify = y,test_size = 0.2,random_state= 42)"
   ]
  },
  {
   "cell_type": "code",
   "execution_count": 65,
   "metadata": {},
   "outputs": [],
   "source": [
    "#tokenizer \n",
    "vocab_size = 10000\n",
    "oov_token = \"<OOV>\"\n",
    "tokenizer = Tokenizer(num_words = vocab_size,oov_token = oov_token)\n",
    "tokenizer.fit_on_texts(X_train)\n",
    "\n",
    "training_sequences = tokenizer.texts_to_sequences(X_train)\n",
    "training_padded = pad_sequences(training_sequences,padding = 'post',maxlen = 768)\n",
    "\n",
    "validation_sequences = tokenizer.texts_to_sequences(X_valid)\n",
    "validation_padded = pad_sequences(validation_sequences,padding = 'post',maxlen = 768)"
   ]
  },
  {
   "cell_type": "code",
   "execution_count": 155,
   "metadata": {},
   "outputs": [
    {
     "name": "stdout",
     "output_type": "stream",
     "text": [
      "Model: \"sequential_55\"\n",
      "_________________________________________________________________\n",
      " Layer (type)                Output Shape              Param #   \n",
      "=================================================================\n",
      " embedding_57 (Embedding)    (None, 768, 64)           640000    \n",
      "                                                                 \n",
      " conv1d_33 (Conv1D)          (None, 764, 32)           10272     \n",
      "                                                                 \n",
      " global_average_pooling1d_44  (None, 32)               0         \n",
      "  (GlobalAveragePooling1D)                                       \n"
     ]
    },
    {
     "name": "stdout",
     "output_type": "stream",
     "text": [
      "                                                                 \n",
      " dropout_35 (Dropout)        (None, 32)                0         \n",
      "                                                                 \n",
      " dense_87 (Dense)            (None, 48)                1584      \n",
      "                                                                 \n",
      "=================================================================\n",
      "Total params: 651,856\n",
      "Trainable params: 651,856\n",
      "Non-trainable params: 0\n",
      "_________________________________________________________________\n"
     ]
    }
   ],
   "source": [
    "model = tf.keras.Sequential([\n",
    "    tf.keras.layers.Embedding(vocab_size, 64, input_length=768),\n",
    "    tf.keras.layers.Conv1D(32, 5, activation='relu'),\n",
    "    tf.keras.layers.GlobalAveragePooling1D(),\n",
    "    #dropout\n",
    "    tf.keras.layers.Dropout(0.3),\n",
    "    tf.keras.layers.Dense(len(class_mapping), activation='softmax')\n",
    "])\n",
    "\n",
    "model.compile(loss = 'sparse_categorical_crossentropy',optimizer = 'adam',metrics = ['accuracy'])\n",
    "model.summary()"
   ]
  },
  {
   "cell_type": "code",
   "execution_count": 156,
   "metadata": {},
   "outputs": [
    {
     "name": "stdout",
     "output_type": "stream",
     "text": [
      "Epoch 1/1000\n"
     ]
    },
    {
     "name": "stdout",
     "output_type": "stream",
     "text": [
      "87/87 [==============================] - 1s 11ms/step - loss: 3.8052 - accuracy: 0.0414 - val_loss: 3.6100 - val_accuracy: 0.0551\n",
      "Epoch 2/1000\n",
      "87/87 [==============================] - 1s 7ms/step - loss: 3.4992 - accuracy: 0.0588 - val_loss: 3.3499 - val_accuracy: 0.0986\n",
      "Epoch 3/1000\n",
      "87/87 [==============================] - 1s 7ms/step - loss: 3.2933 - accuracy: 0.0929 - val_loss: 3.1624 - val_accuracy: 0.1391\n",
      "Epoch 4/1000\n",
      "87/87 [==============================] - 1s 8ms/step - loss: 3.1437 - accuracy: 0.1179 - val_loss: 2.9938 - val_accuracy: 0.2072\n",
      "Epoch 5/1000\n",
      "87/87 [==============================] - 1s 8ms/step - loss: 2.9683 - accuracy: 0.1655 - val_loss: 2.8259 - val_accuracy: 0.2478\n",
      "Epoch 6/1000\n",
      "87/87 [==============================] - 1s 7ms/step - loss: 2.7893 - accuracy: 0.2061 - val_loss: 2.6577 - val_accuracy: 0.3174\n",
      "Epoch 7/1000\n",
      "87/87 [==============================] - 1s 8ms/step - loss: 2.6436 - accuracy: 0.2540 - val_loss: 2.5088 - val_accuracy: 0.3841\n",
      "Epoch 8/1000\n",
      "87/87 [==============================] - 1s 8ms/step - loss: 2.4834 - accuracy: 0.2932 - val_loss: 2.3666 - val_accuracy: 0.4188\n",
      "Epoch 9/1000\n",
      "87/87 [==============================] - 1s 8ms/step - loss: 2.3278 - accuracy: 0.3251 - val_loss: 2.2441 - val_accuracy: 0.4449\n",
      "Epoch 10/1000\n",
      "87/87 [==============================] - 1s 8ms/step - loss: 2.1964 - accuracy: 0.3705 - val_loss: 2.1221 - val_accuracy: 0.4594\n",
      "Epoch 11/1000\n",
      "87/87 [==============================] - 1s 8ms/step - loss: 2.0970 - accuracy: 0.4042 - val_loss: 2.0217 - val_accuracy: 0.5087\n",
      "Epoch 12/1000\n",
      "87/87 [==============================] - 1s 7ms/step - loss: 1.9923 - accuracy: 0.4405 - val_loss: 1.9199 - val_accuracy: 0.5290\n",
      "Epoch 13/1000\n",
      "87/87 [==============================] - 1s 8ms/step - loss: 1.8679 - accuracy: 0.4706 - val_loss: 1.8355 - val_accuracy: 0.5638\n",
      "Epoch 14/1000\n",
      "87/87 [==============================] - 1s 8ms/step - loss: 1.7661 - accuracy: 0.5054 - val_loss: 1.7585 - val_accuracy: 0.5710\n",
      "Epoch 15/1000\n",
      "87/87 [==============================] - 1s 7ms/step - loss: 1.6509 - accuracy: 0.5446 - val_loss: 1.6864 - val_accuracy: 0.5957\n",
      "Epoch 16/1000\n",
      "87/87 [==============================] - 1s 8ms/step - loss: 1.6107 - accuracy: 0.5490 - val_loss: 1.6352 - val_accuracy: 0.6174\n",
      "Epoch 17/1000\n",
      "87/87 [==============================] - 1s 8ms/step - loss: 1.5242 - accuracy: 0.5747 - val_loss: 1.5705 - val_accuracy: 0.6072\n",
      "Epoch 18/1000\n",
      "87/87 [==============================] - 1s 7ms/step - loss: 1.4514 - accuracy: 0.6030 - val_loss: 1.5216 - val_accuracy: 0.6275\n",
      "Epoch 19/1000\n",
      "87/87 [==============================] - 1s 7ms/step - loss: 1.3979 - accuracy: 0.6136 - val_loss: 1.4952 - val_accuracy: 0.6493\n",
      "Epoch 20/1000\n",
      "87/87 [==============================] - 1s 8ms/step - loss: 1.3142 - accuracy: 0.6357 - val_loss: 1.4480 - val_accuracy: 0.6420\n",
      "Epoch 21/1000\n",
      "87/87 [==============================] - 1s 8ms/step - loss: 1.2941 - accuracy: 0.6404 - val_loss: 1.4167 - val_accuracy: 0.6565\n",
      "Epoch 22/1000\n",
      "87/87 [==============================] - 1s 8ms/step - loss: 1.2181 - accuracy: 0.6615 - val_loss: 1.3919 - val_accuracy: 0.6594\n",
      "Epoch 23/1000\n",
      "87/87 [==============================] - 1s 8ms/step - loss: 1.1566 - accuracy: 0.6930 - val_loss: 1.3677 - val_accuracy: 0.6551\n",
      "Epoch 24/1000\n",
      "87/87 [==============================] - 1s 8ms/step - loss: 1.1032 - accuracy: 0.7054 - val_loss: 1.3398 - val_accuracy: 0.6638\n",
      "Epoch 25/1000\n",
      "87/87 [==============================] - 1s 7ms/step - loss: 1.0713 - accuracy: 0.7057 - val_loss: 1.3187 - val_accuracy: 0.6667\n",
      "Epoch 26/1000\n",
      "87/87 [==============================] - 1s 7ms/step - loss: 1.0324 - accuracy: 0.7148 - val_loss: 1.2970 - val_accuracy: 0.6768\n",
      "Epoch 27/1000\n",
      "87/87 [==============================] - 1s 8ms/step - loss: 1.0055 - accuracy: 0.7261 - val_loss: 1.2838 - val_accuracy: 0.6754\n",
      "Epoch 28/1000\n",
      "87/87 [==============================] - 1s 8ms/step - loss: 0.9678 - accuracy: 0.7348 - val_loss: 1.2660 - val_accuracy: 0.6826\n",
      "Epoch 29/1000\n",
      "87/87 [==============================] - 1s 8ms/step - loss: 0.9396 - accuracy: 0.7344 - val_loss: 1.2481 - val_accuracy: 0.6768\n",
      "Epoch 30/1000\n",
      "87/87 [==============================] - 1s 8ms/step - loss: 0.8965 - accuracy: 0.7522 - val_loss: 1.2419 - val_accuracy: 0.6913\n",
      "Epoch 31/1000\n",
      "87/87 [==============================] - 1s 7ms/step - loss: 0.8658 - accuracy: 0.7623 - val_loss: 1.2207 - val_accuracy: 0.6913\n",
      "Epoch 32/1000\n",
      "87/87 [==============================] - 1s 7ms/step - loss: 0.8436 - accuracy: 0.7605 - val_loss: 1.2277 - val_accuracy: 0.6884\n",
      "Epoch 33/1000\n",
      "87/87 [==============================] - 1s 8ms/step - loss: 0.8077 - accuracy: 0.7845 - val_loss: 1.2089 - val_accuracy: 0.6971\n",
      "Epoch 34/1000\n",
      "87/87 [==============================] - 1s 8ms/step - loss: 0.7914 - accuracy: 0.7914 - val_loss: 1.2071 - val_accuracy: 0.6884\n",
      "Epoch 35/1000\n",
      "87/87 [==============================] - 1s 8ms/step - loss: 0.7733 - accuracy: 0.7906 - val_loss: 1.1928 - val_accuracy: 0.6899\n",
      "Epoch 36/1000\n",
      "87/87 [==============================] - 1s 8ms/step - loss: 0.7567 - accuracy: 0.7881 - val_loss: 1.1915 - val_accuracy: 0.6928\n",
      "Epoch 37/1000\n",
      "87/87 [==============================] - 1s 8ms/step - loss: 0.7240 - accuracy: 0.7983 - val_loss: 1.1759 - val_accuracy: 0.6957\n",
      "Epoch 38/1000\n",
      "87/87 [==============================] - 1s 8ms/step - loss: 0.6954 - accuracy: 0.8139 - val_loss: 1.1674 - val_accuracy: 0.7014\n",
      "Epoch 39/1000\n",
      "87/87 [==============================] - 1s 9ms/step - loss: 0.6850 - accuracy: 0.8186 - val_loss: 1.1659 - val_accuracy: 0.6971\n",
      "Epoch 40/1000\n",
      "87/87 [==============================] - 1s 9ms/step - loss: 0.6553 - accuracy: 0.8247 - val_loss: 1.1632 - val_accuracy: 0.6870\n",
      "Epoch 41/1000\n",
      "87/87 [==============================] - 1s 8ms/step - loss: 0.6310 - accuracy: 0.8316 - val_loss: 1.1549 - val_accuracy: 0.7029\n",
      "Epoch 42/1000\n",
      "87/87 [==============================] - 1s 10ms/step - loss: 0.6420 - accuracy: 0.8353 - val_loss: 1.1466 - val_accuracy: 0.7101\n",
      "Epoch 43/1000\n",
      "87/87 [==============================] - 1s 12ms/step - loss: 0.5920 - accuracy: 0.8407 - val_loss: 1.1540 - val_accuracy: 0.7043\n",
      "Epoch 44/1000\n",
      "87/87 [==============================] - 1s 13ms/step - loss: 0.5765 - accuracy: 0.8523 - val_loss: 1.1479 - val_accuracy: 0.7014\n",
      "Epoch 45/1000\n",
      "87/87 [==============================] - 1s 14ms/step - loss: 0.5608 - accuracy: 0.8549 - val_loss: 1.1440 - val_accuracy: 0.7087\n",
      "Epoch 46/1000\n",
      "87/87 [==============================] - 1s 13ms/step - loss: 0.5543 - accuracy: 0.8549 - val_loss: 1.1439 - val_accuracy: 0.7174\n",
      "Epoch 47/1000\n",
      "87/87 [==============================] - 1s 13ms/step - loss: 0.5293 - accuracy: 0.8530 - val_loss: 1.1491 - val_accuracy: 0.7087\n",
      "Epoch 48/1000\n",
      "87/87 [==============================] - 1s 12ms/step - loss: 0.5156 - accuracy: 0.8712 - val_loss: 1.1438 - val_accuracy: 0.7072\n",
      "Epoch 49/1000\n",
      "87/87 [==============================] - 1s 12ms/step - loss: 0.5074 - accuracy: 0.8574 - val_loss: 1.1449 - val_accuracy: 0.7029\n",
      "Epoch 50/1000\n",
      "87/87 [==============================] - 1s 11ms/step - loss: 0.4984 - accuracy: 0.8730 - val_loss: 1.1420 - val_accuracy: 0.7087\n",
      "Epoch 51/1000\n",
      "87/87 [==============================] - 1s 11ms/step - loss: 0.4948 - accuracy: 0.8687 - val_loss: 1.1458 - val_accuracy: 0.7072\n",
      "Epoch 52/1000\n",
      "87/87 [==============================] - 1s 11ms/step - loss: 0.4624 - accuracy: 0.8781 - val_loss: 1.1384 - val_accuracy: 0.7072\n",
      "Epoch 53/1000\n",
      "87/87 [==============================] - 1s 13ms/step - loss: 0.4382 - accuracy: 0.8843 - val_loss: 1.1333 - val_accuracy: 0.7188\n",
      "Epoch 54/1000\n",
      "87/87 [==============================] - 1s 12ms/step - loss: 0.4420 - accuracy: 0.8893 - val_loss: 1.1347 - val_accuracy: 0.7087\n",
      "Epoch 55/1000\n",
      "87/87 [==============================] - 1s 12ms/step - loss: 0.4420 - accuracy: 0.8781 - val_loss: 1.1382 - val_accuracy: 0.7072\n",
      "Epoch 56/1000\n",
      "87/87 [==============================] - 1s 12ms/step - loss: 0.4177 - accuracy: 0.8919 - val_loss: 1.1362 - val_accuracy: 0.7014\n",
      "Epoch 57/1000\n",
      "87/87 [==============================] - 1s 12ms/step - loss: 0.4084 - accuracy: 0.8977 - val_loss: 1.1412 - val_accuracy: 0.7101\n",
      "Epoch 58/1000\n",
      "87/87 [==============================] - 1s 12ms/step - loss: 0.3896 - accuracy: 0.8966 - val_loss: 1.1476 - val_accuracy: 0.7101\n"
     ]
    }
   ],
   "source": [
    "early_stopping = tf.keras.callbacks.EarlyStopping(monitor = 'val_loss',patience = 5,restore_best_weights = True)\n",
    "\n",
    "num_epochs = 1000\n",
    "history = model.fit(training_padded,y_train,epochs = num_epochs,validation_data = (validation_padded,y_valid),callbacks = [early_stopping])"
   ]
  },
  {
   "cell_type": "code",
   "execution_count": 157,
   "metadata": {},
   "outputs": [
    {
     "name": "stdout",
     "output_type": "stream",
     "text": [
      "22/22 [==============================] - 0s 13ms/step - loss: 1.1333 - accuracy: 0.7188\n"
     ]
    },
    {
     "data": {
      "text/plain": [
       "[1.1333305835723877, 0.7188405990600586]"
      ]
     },
     "execution_count": 157,
     "metadata": {},
     "output_type": "execute_result"
    }
   ],
   "source": [
    "model.evaluate(validation_padded,y_valid)"
   ]
  },
  {
   "cell_type": "code",
   "execution_count": 161,
   "metadata": {},
   "outputs": [],
   "source": [
    "#save tokenizer and model\n",
    "import pickle\n",
    "with open('tokenizer.pickle', 'wb') as handle:\n",
    "    pickle.dump(tokenizer, handle, protocol=pickle.HIGHEST_PROTOCOL)\n",
    "model.save(\"resume_model.h5\")\n"
   ]
  },
  {
   "cell_type": "code",
   "execution_count": 172,
   "metadata": {},
   "outputs": [
    {
     "data": {
      "text/plain": [
       "{'HR': 0,\n",
       " 'DESIGNER': 1,\n",
       " 'INFORMATION-TECHNOLOGY': 2,\n",
       " 'TEACHER': 3,\n",
       " 'ADVOCATE': 4,\n",
       " 'BUSINESS-DEVELOPMENT': 5,\n",
       " 'HEALTHCARE': 6,\n",
       " 'FITNESS': 7,\n",
       " 'AGRICULTURE': 8,\n",
       " 'BPO': 9,\n",
       " 'SALES': 10,\n",
       " 'CONSULTANT': 11,\n",
       " 'DIGITAL-MEDIA': 12,\n",
       " 'AUTOMOBILE': 13,\n",
       " 'CHEF': 14,\n",
       " 'FINANCE': 15,\n",
       " 'APPAREL': 16,\n",
       " 'ENGINEERING': 17,\n",
       " 'ACCOUNTANT': 18,\n",
       " 'CONSTRUCTION': 19,\n",
       " 'PUBLIC-RELATIONS': 20,\n",
       " 'BANKING': 21,\n",
       " 'ARTS': 22,\n",
       " 'AVIATION': 23,\n",
       " 'Data Science': 24,\n",
       " 'Advocate': 25,\n",
       " 'Arts': 26,\n",
       " 'Web Designing': 27,\n",
       " 'Mechanical Engineer': 28,\n",
       " 'Sales': 29,\n",
       " 'Health and fitness': 30,\n",
       " 'Civil Engineer': 31,\n",
       " 'Java Developer': 32,\n",
       " 'Business Analyst': 33,\n",
       " 'SAP Developer': 34,\n",
       " 'Automation Testing': 35,\n",
       " 'Electrical Engineering': 36,\n",
       " 'Operations Manager': 37,\n",
       " 'Python Developer': 38,\n",
       " 'DevOps Engineer': 39,\n",
       " 'Network Security Engineer': 40,\n",
       " 'PMO': 41,\n",
       " 'Database': 42,\n",
       " 'Hadoop': 43,\n",
       " 'ETL Developer': 44,\n",
       " 'DotNet Developer': 45,\n",
       " 'Blockchain': 46,\n",
       " 'Testing': 47}"
      ]
     },
     "execution_count": 172,
     "metadata": {},
     "output_type": "execute_result"
    }
   ],
   "source": [
    "class_mapping"
   ]
  }
 ],
 "metadata": {
  "kernelspec": {
   "display_name": "tf-exam",
   "language": "python",
   "name": "python3"
  },
  "language_info": {
   "codemirror_mode": {
    "name": "ipython",
    "version": 3
   },
   "file_extension": ".py",
   "mimetype": "text/x-python",
   "name": "python",
   "nbconvert_exporter": "python",
   "pygments_lexer": "ipython3",
   "version": "3.9.18"
  }
 },
 "nbformat": 4,
 "nbformat_minor": 2
}
